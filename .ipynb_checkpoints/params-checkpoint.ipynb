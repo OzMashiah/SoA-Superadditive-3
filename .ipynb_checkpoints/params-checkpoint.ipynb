{
 "cells": [
  {
   "cell_type": "code",
   "execution_count": 2,
   "id": "e805d711",
   "metadata": {},
   "outputs": [],
   "source": [
    "import pandas as pd"
   ]
  },
  {
   "cell_type": "code",
   "execution_count": 3,
   "id": "d824f78a",
   "metadata": {},
   "outputs": [],
   "source": [
    "# Parameters - make sure to adjust before a new running environment/experiment!\n",
    "data_dir = \"data/\" # Specify where is the subjects data directory \n",
    "data_dir_pattern = r'Sub(\\d+)' # Specify the pattern of the naming for the results directories, used as regular expression.\n",
    "trials_file_pattern = r'Trials_sub*' # Specify the pattern of the naming for the trials files, used as regular expression.\n",
    "preprocessed_output_dir = 'Preprocessed/' # The output folder where you want the preprocessed csvs to be.\n",
    "spatial_alteration_levels = [0.1583, 0.2125, 0.2679] # Specify the levels of spatial alteration, only positive of each level.\n",
    "temporal_alteration_levels = [0.05, 0.072, 0.094] # Specify the levels of temporal alteration.\n",
    "subnum_translator_file = 'subnum_to_real_subnum.csv' # CSV containing the used sub id and the actual sub id. (e.g, 70011, 1)\n",
    "butterfly_location_translator_file = 'tasknum_to_butterfly_location.csv' # CSV containing setup task num and the butterfly loc.\n",
    "\n",
    "part1_results_path = \"/Part1/\"  + \"/Sub-*_Plan*\" + \"/Answers*.csv\"\n",
    "part2_results_path = \"/Part2/\"  + \"/Sub-*_Plan*\" + \"/Answers*.csv\"\n",
    "part3_results_path = \"/Part3/\"  + \"/Sub-*_Plan*\" + \"/Answers*.csv\"\n",
    "part1_trials_path = \"/Part1/\"  + \"/Sub-*_Plan*\" + \"/UsedPlan/\" + trials_file_pattern\n",
    "part2_trials_path = \"/Part2/\"  + \"/Sub-*_Plan*\" + \"/UsedPlan/\" + trials_file_pattern\n",
    "part3_trials_path = \"/Part3/\"  + \"/Sub-*_Plan*\" + \"/UsedPlan/\" + trials_file_pattern\n",
    "\n",
    "# Set up a dictionary to translate used subject number (70012) to real subject number (1) using subnum_translator_file\n",
    "subnum_translation = pd.read_csv(subnum_translator_file)\n",
    "subnum_translator = dict()\n",
    "for i in range(0,len(subnum_translation['Real Subject Number'])):\n",
    "    key = subnum_translation['Used Subject Number'][i]\n",
    "    value = subnum_translation['Real Subject Number'][i]\n",
    "    subnum_translator[key] = value\n",
    "    \n",
    "# Set up a dictionary to translate setup task number to butterfly location using butterfly_location_translator_file.\n",
    "tasknum_translation = pd.read_csv(butterfly_location_translator_file)\n",
    "tasknum_translator = dict()\n",
    "for i in range(0,len(tasknum_translation['Setup Task Number'])):\n",
    "    key = tasknum_translation['Setup Task Number'][i]\n",
    "    value = tasknum_translation['Butterfly Location'][i]\n",
    "    tasknum_translator[key] = value"
   ]
  }
 ],
 "metadata": {
  "kernelspec": {
   "display_name": "Python 3 (ipykernel)",
   "language": "python",
   "name": "python3"
  },
  "language_info": {
   "codemirror_mode": {
    "name": "ipython",
    "version": 3
   },
   "file_extension": ".py",
   "mimetype": "text/x-python",
   "name": "python",
   "nbconvert_exporter": "python",
   "pygments_lexer": "ipython3",
   "version": "3.9.12"
  },
  "varInspector": {
   "cols": {
    "lenName": 16,
    "lenType": 16,
    "lenVar": 40
   },
   "kernels_config": {
    "python": {
     "delete_cmd_postfix": "",
     "delete_cmd_prefix": "del ",
     "library": "var_list.py",
     "varRefreshCmd": "print(var_dic_list())"
    },
    "r": {
     "delete_cmd_postfix": ") ",
     "delete_cmd_prefix": "rm(",
     "library": "var_list.r",
     "varRefreshCmd": "cat(var_dic_list()) "
    }
   },
   "types_to_exclude": [
    "module",
    "function",
    "builtin_function_or_method",
    "instance",
    "_Feature"
   ],
   "window_display": false
  }
 },
 "nbformat": 4,
 "nbformat_minor": 5
}
